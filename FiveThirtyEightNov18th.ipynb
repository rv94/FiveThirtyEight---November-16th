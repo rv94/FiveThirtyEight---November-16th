{
 "cells": [
  {
   "cell_type": "code",
   "execution_count": 1,
   "metadata": {},
   "outputs": [],
   "source": [
    "##Import required libraries\n",
    "from scipy.stats import multinomial\n",
    "from itertools import product\n",
    "import numpy as np\n",
    "from numba import vectorize, cuda"
   ]
  },
  {
   "cell_type": "code",
   "execution_count": 2,
   "metadata": {},
   "outputs": [],
   "source": [
    "##Obtain feasible combinations of number of wins, losses and draws as a tuple respectively \n",
    "PossibleComb = list(product(range(0, 13), repeat=3)) ##All possible tuples \n",
    "PossibleComb = np.array(PossibleComb)\n",
    "AllowedItems = [] \n",
    "for i in range(len(PossibleComb)):\n",
    "    if (PossibleComb[i][0]>PossibleComb[i][1] and (PossibleComb[i][0]+PossibleComb[i][1]+PossibleComb[i][2])==12):\n",
    "        AllowedItems.append(i)\n",
    "'''\n",
    "Allowed items only admits tuple members from PossibleComb if both the number of wins necessarily exceeds number of losses \n",
    "and the total number of games played is 12\n",
    "'''\n",
    "Combinations = PossibleComb[AllowedItems]"
   ]
  },
  {
   "cell_type": "code",
   "execution_count": 3,
   "metadata": {},
   "outputs": [
    {
     "data": {
      "text/plain": [
       "0.5198089440489245"
      ]
     },
     "execution_count": 3,
     "metadata": {},
     "output_type": "execute_result"
    }
   ],
   "source": [
    "##Generate Multinomial Distribution and obtain total probabilities of allowed - Part 1 Answer\n",
    "Chess = multinomial(12,[0.2,0.15,0.65])\n",
    "sum(Chess.pmf(Combinations)) ##0.5198089440489245"
   ]
  },
  {
   "cell_type": "code",
   "execution_count": 2,
   "metadata": {},
   "outputs": [
    {
     "ename": "MemoryError",
     "evalue": "",
     "output_type": "error",
     "traceback": [
      "\u001b[1;31m---------------------------------------------------------------------------\u001b[0m",
      "\u001b[1;31mMemoryError\u001b[0m                               Traceback (most recent call last)",
      "\u001b[1;32m<ipython-input-2-4c86e9024318>\u001b[0m in \u001b[0;36m<module>\u001b[1;34m()\u001b[0m\n\u001b[0;32m      1\u001b[0m \u001b[1;31m##Solving for a general case j\u001b[0m\u001b[1;33m\u001b[0m\u001b[1;33m\u001b[0m\u001b[0m\n\u001b[0;32m      2\u001b[0m \u001b[0mj\u001b[0m \u001b[1;33m=\u001b[0m \u001b[1;36m640\u001b[0m\u001b[1;33m\u001b[0m\u001b[0m\n\u001b[1;32m----> 3\u001b[1;33m \u001b[0mPossibleComb\u001b[0m \u001b[1;33m=\u001b[0m \u001b[0mlist\u001b[0m\u001b[1;33m(\u001b[0m\u001b[0mproduct\u001b[0m\u001b[1;33m(\u001b[0m\u001b[0mrange\u001b[0m\u001b[1;33m(\u001b[0m\u001b[1;36m0\u001b[0m\u001b[1;33m,\u001b[0m \u001b[0mj\u001b[0m\u001b[1;33m+\u001b[0m\u001b[1;36m1\u001b[0m\u001b[1;33m)\u001b[0m\u001b[1;33m,\u001b[0m \u001b[0mrepeat\u001b[0m\u001b[1;33m=\u001b[0m\u001b[1;36m3\u001b[0m\u001b[1;33m)\u001b[0m\u001b[1;33m)\u001b[0m \u001b[1;31m##All possible tuples\u001b[0m\u001b[1;33m\u001b[0m\u001b[0m\n\u001b[0m\u001b[0;32m      4\u001b[0m \u001b[0mPossibleComb\u001b[0m \u001b[1;33m=\u001b[0m \u001b[0mnp\u001b[0m\u001b[1;33m.\u001b[0m\u001b[0marray\u001b[0m\u001b[1;33m(\u001b[0m\u001b[0mPossibleComb\u001b[0m\u001b[1;33m)\u001b[0m\u001b[1;33m\u001b[0m\u001b[0m\n\u001b[0;32m      5\u001b[0m \u001b[0mAllowedItems\u001b[0m \u001b[1;33m=\u001b[0m \u001b[1;33m[\u001b[0m\u001b[1;33m]\u001b[0m\u001b[1;33m\u001b[0m\u001b[0m\n",
      "\u001b[1;31mMemoryError\u001b[0m: "
     ]
    }
   ],
   "source": [
    "##Solving for a general case j\n",
    "j = 630\n",
    "PossibleComb = list(product(range(0, j+1), repeat=3)) ##All possible tuples \n",
    "PossibleComb = np.array(PossibleComb)\n",
    "AllowedItems = [] \n",
    "for i in range(len(PossibleComb)):\n",
    "    if (PossibleComb[i][0]>PossibleComb[i][1] and (PossibleComb[i][0]+PossibleComb[i][1]+PossibleComb[i][2])==j):\n",
    "        AllowedItems.append(i)\n",
    "Combinations = PossibleComb[AllowedItems]\n",
    "Chess = multinomial(j,[0.2,0.15,0.65])\n",
    "##This is a list of tuples containing the number of games and the probability of winning\n",
    "sum(Chess.pmf(Combinations)) "
   ]
  },
  {
   "cell_type": "code",
   "execution_count": 13,
   "metadata": {},
   "outputs": [],
   "source": [
    "##Obtaining all probabilities until j\n",
    "WinProb = []\n",
    "for j in range(1,248):\n",
    "    PossibleComb = list(product(range(0, j+1), repeat=3)) ##All possible tuples \n",
    "    PossibleComb = np.array(PossibleComb)\n",
    "    AllowedItems = [] \n",
    "    for i in range(len(PossibleComb)):\n",
    "        if (PossibleComb[i][0]>PossibleComb[i][1] and (PossibleComb[i][0]+PossibleComb[i][1]+PossibleComb[i][2])==j):\n",
    "            AllowedItems.append(i)\n",
    "    Combinations = PossibleComb[AllowedItems]\n",
    "    Chess = multinomial(j,[0.2,0.15,0.65])\n",
    "    ##This is a list of tuples containing the number of games and the probability of winning\n",
    "    WinProb.append((j,sum(Chess.pmf(Combinations))))"
   ]
  },
  {
   "cell_type": "code",
   "execution_count": 12,
   "metadata": {},
   "outputs": [
    {
     "data": {
      "text/plain": [
       "[(1, 0.2),\n",
       " (2, 0.30000000000000004),\n",
       " (3, 0.3575),\n",
       " (4, 0.39510000000000006),\n",
       " (5, 0.42232624999999996),\n",
       " (6, 0.4435436250000003),\n",
       " (7, 0.46094304687500004),\n",
       " (8, 0.47572831875000043),\n",
       " (9, 0.4886173235703124),\n",
       " (10, 0.500068840183594),\n",
       " (11, 0.5103929757828718),\n",
       " (12, 0.5198089440489245),\n",
       " (13, 0.5284773680287124),\n",
       " (14, 0.5365194226854899),\n",
       " (15, 0.544028754664274),\n",
       " (16, 0.5510792196913556),\n",
       " (17, 0.5577300835492996),\n",
       " (18, 0.5640296229335129),\n",
       " (19, 0.5700176823292603),\n",
       " (20, 0.5757275297977357),\n",
       " (21, 0.5811872300044035),\n",
       " (22, 0.586420677460163),\n",
       " (23, 0.5914483859217013),\n",
       " (24, 0.5962880997517513),\n",
       " (25, 0.600955273247196),\n",
       " (26, 0.6054634506678961),\n",
       " (27, 0.6098245706234396),\n",
       " (28, 0.6140492121620225),\n",
       " (29, 0.6181467954444834),\n",
       " (30, 0.6221257466889789),\n",
       " (31, 0.6259936347479337),\n",
       " (32, 0.6297572849714018),\n",
       " (33, 0.6334228747399453),\n",
       " (34, 0.6369960140954961),\n",
       " (35, 0.6404818141744322),\n",
       " (36, 0.643884945591392),\n",
       " (37, 0.6472096884945011),\n",
       " (38, 0.6504599756786492),\n",
       " (39, 0.6536394298810546),\n",
       " (40, 0.656751396177759),\n",
       " (41, 0.659798970233611),\n",
       " (42, 0.6627850230279674),\n",
       " (43, 0.6657122225712977),\n",
       " (44, 0.6685830530424844),\n",
       " (45, 0.6713998317068475),\n",
       " (46, 0.6741647239167678),\n",
       " (47, 0.6768797564514586),\n",
       " (48, 0.6795468294110776),\n",
       " (49, 0.6821677268510521)]"
      ]
     },
     "execution_count": 12,
     "metadata": {},
     "output_type": "execute_result"
    }
   ],
   "source": [
    "WinProb"
   ]
  }
 ],
 "metadata": {
  "kernelspec": {
   "display_name": "Python 3",
   "language": "python",
   "name": "python3"
  },
  "language_info": {
   "codemirror_mode": {
    "name": "ipython",
    "version": 3
   },
   "file_extension": ".py",
   "mimetype": "text/x-python",
   "name": "python",
   "nbconvert_exporter": "python",
   "pygments_lexer": "ipython3",
   "version": "3.6.5"
  }
 },
 "nbformat": 4,
 "nbformat_minor": 2
}
